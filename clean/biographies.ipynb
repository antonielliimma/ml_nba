{
 "cells": [
  {
   "cell_type": "code",
   "execution_count": 14,
   "metadata": {},
   "outputs": [],
   "source": [
    "import pandas as pd\n",
    "\n",
    "df = pd.read_csv('../dataset/scraping/biographies.csv')"
   ]
  },
  {
   "cell_type": "code",
   "execution_count": 15,
   "metadata": {},
   "outputs": [],
   "source": [
    "def extrair_id_url(url):\n",
    "    partes_url = url.split(\"/\")\n",
    "    indice_id = partes_url.index(\"id\")\n",
    "    return partes_url[indice_id + 1]\n",
    "\n",
    "\n",
    "df['player_id'] = df['url'].apply(extrair_id_url)"
   ]
  },
  {
   "cell_type": "code",
   "execution_count": 16,
   "metadata": {},
   "outputs": [],
   "source": [
    "df = df.where(pd.notnull(df), None)"
   ]
  },
  {
   "cell_type": "code",
   "execution_count": 17,
   "metadata": {},
   "outputs": [],
   "source": [
    "df = df.drop(['url'], axis=1)"
   ]
  },
  {
   "cell_type": "code",
   "execution_count": 18,
   "metadata": {},
   "outputs": [],
   "source": [
    "columns = ['player_id','team','position','ht_wt','birthdate','college','draft_info','status','experience','birthplace']\n",
    "\n",
    "df = df.loc[:, columns]"
   ]
  },
  {
   "cell_type": "code",
   "execution_count": 21,
   "metadata": {},
   "outputs": [],
   "source": [
    "df.to_csv('../dataset/clean/biographies.csv', index=False)"
   ]
  },
  {
   "cell_type": "code",
   "execution_count": 22,
   "metadata": {},
   "outputs": [],
   "source": [
    "#faz o merge da biografia com o jogador\n",
    "\n",
    "df_players = pd.read_csv('../dataset/clean/players.csv')\n",
    "df_biographies = pd.read_csv('../dataset/clean/biographies.csv')\n",
    "\n",
    "df_biographies = df_biographies.rename(columns={'player_id':'id'})\n",
    "\n",
    "# Fazer o merge dos DataFrames com base na coluna \"id\"\n",
    "merged_df = pd.merge(df_players, df_biographies, on='id')"
   ]
  },
  {
   "cell_type": "code",
   "execution_count": 25,
   "metadata": {},
   "outputs": [],
   "source": [
    "merged_df = merged_df.where(pd.notnull(merged_df), None)"
   ]
  },
  {
   "cell_type": "code",
   "execution_count": 27,
   "metadata": {},
   "outputs": [],
   "source": [
    "merged_df.to_csv('../dataset/clean/players_with_biography.csv',index=False)"
   ]
  }
 ],
 "metadata": {
  "kernelspec": {
   "display_name": "nba",
   "language": "python",
   "name": "python3"
  },
  "language_info": {
   "codemirror_mode": {
    "name": "ipython",
    "version": 3
   },
   "file_extension": ".py",
   "mimetype": "text/x-python",
   "name": "python",
   "nbconvert_exporter": "python",
   "pygments_lexer": "ipython3",
   "version": "3.11.3"
  },
  "orig_nbformat": 4
 },
 "nbformat": 4,
 "nbformat_minor": 2
}
