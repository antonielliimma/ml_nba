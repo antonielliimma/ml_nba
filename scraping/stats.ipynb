{
 "cells": [
  {
   "cell_type": "code",
   "execution_count": 1,
   "metadata": {},
   "outputs": [],
   "source": [
    "import requests\n",
    "from bs4 import BeautifulSoup\n",
    "\n",
    "\n",
    "def crawler_stats(player):\n",
    "    aux = player.name_url.split('_')\n",
    "    url = \"https://www.espn.com/nba/player/stats/_\" + aux[1]\n",
    "    response = requests.get(url)\n",
    "    html = response.content\n",
    "    soup = BeautifulSoup(html, 'html.parser')\n",
    "    \n",
    "    tables = soup.find_all('table')\n",
    "    \n",
    "    datasets = []\n",
    "    for table in tables:\n",
    "        header_row = table.select('thead tr')[0]\n",
    "        columns = [th.text.strip() for th in header_row.select('th')]\n",
    "        body_rows = table.select('tbody tr')\n",
    "        values = []\n",
    "        for row in body_rows:\n",
    "            row_data = [td.text.strip() for td in row.select('td')]\n",
    "            value = dict(zip(columns, row_data))\n",
    "            values.append({'url': url, **value})\n",
    "\n",
    "        datasets.append(values)\n",
    "\n",
    "    return datasets"
   ]
  },
  {
   "cell_type": "code",
   "execution_count": 8,
   "metadata": {},
   "outputs": [],
   "source": [
    "import pandas as pd\n",
    "\n",
    "df = pd.read_csv('../dataset/scraping/players.csv')\n",
    "\n",
    "stats = []\n",
    "for i, value in df.iterrows():\n",
    "    stat = crawler_stats(value)\n",
    "    stats.append(stat)"
   ]
  },
  {
   "cell_type": "code",
   "execution_count": 33,
   "metadata": {},
   "outputs": [],
   "source": [
    "averages = []\n",
    "totals = []\n",
    "miscs = []\n",
    "fails = []\n",
    "for index, stat in enumerate(stats):\n",
    "    try:\n",
    "        for i in range(0, len(stat[0])):\n",
    "            averages.append({**stat[0][i], **stat[1][i]})\n",
    "\n",
    "        for i in range(0, len(stat[2])):\n",
    "            totals.append({**stat[2][i], **stat[3][i]})\n",
    "\n",
    "        for i in range(0, len(stat[4])):\n",
    "            miscs.append({**stat[4][i], **stat[5][i]})\n",
    "    except:\n",
    "        fails.append(stat)"
   ]
  },
  {
   "cell_type": "code",
   "execution_count": 42,
   "metadata": {},
   "outputs": [],
   "source": [
    "df1 = pd.DataFrame(data=averages)\n",
    "\n",
    "df1.to_csv('../dataset/scraping/averages.csv', index=False)"
   ]
  },
  {
   "cell_type": "code",
   "execution_count": 43,
   "metadata": {},
   "outputs": [],
   "source": [
    "df2 = pd.DataFrame(data=totals)\n",
    "\n",
    "df2.to_csv('../dataset/scraping/totals.csv', index=False)"
   ]
  },
  {
   "cell_type": "code",
   "execution_count": 44,
   "metadata": {},
   "outputs": [],
   "source": [
    "df3 = pd.DataFrame(data=miscs)\n",
    "\n",
    "df3.to_csv('../dataset/scraping/miscs.csv', index=False)"
   ]
  }
 ],
 "metadata": {
  "kernelspec": {
   "display_name": "nba",
   "language": "python",
   "name": "python3"
  },
  "language_info": {
   "codemirror_mode": {
    "name": "ipython",
    "version": 3
   },
   "file_extension": ".py",
   "mimetype": "text/x-python",
   "name": "python",
   "nbconvert_exporter": "python",
   "pygments_lexer": "ipython3",
   "version": "3.11.3"
  },
  "orig_nbformat": 4
 },
 "nbformat": 4,
 "nbformat_minor": 2
}
