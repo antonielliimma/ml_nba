{
 "cells": [
  {
   "cell_type": "code",
   "execution_count": 22,
   "metadata": {},
   "outputs": [],
   "source": [
    "import requests\n",
    "from bs4 import BeautifulSoup\n",
    "\n",
    "\n",
    "def crawler_biography(player):\n",
    "    aux = player.name_url.split('_')\n",
    "    url = \"https://www.espn.com/nba/player/bio/_\" + aux[1]\n",
    "    response = requests.get(url)\n",
    "    html = response.content\n",
    "    soup = BeautifulSoup(html, 'html.parser')\n",
    "    biography_section = soup.find(class_='Card Bio')\n",
    "    labels = ['url']\n",
    "    values = [player.name_url]\n",
    "    items = biography_section.find_all('div', class_='Bio__Item')\n",
    "    for item in items:\n",
    "        label_element = item.find('span', class_='Bio__Label')\n",
    "        value_element = item.find('span', class_='flex-uniform')\n",
    "        label = label_element.text.strip()\n",
    "        value = value_element.text.strip()\n",
    "        labels.append(label)\n",
    "        values.append(value)\n",
    "\n",
    "    labels = [label.lower().replace('/', '_').replace(' ', '_') for label in labels]\n",
    "\n",
    "    return dict(zip(labels, values))"
   ]
  },
  {
   "cell_type": "code",
   "execution_count": 29,
   "metadata": {},
   "outputs": [],
   "source": [
    "import pandas as pd\n",
    "\n",
    "df = pd.read_csv('players.csv')\n",
    "\n",
    "biographies = []\n",
    "for i, value in df.iterrows():\n",
    "    biography = crawler_biography(value)\n",
    "    biographies.append(biography)    "
   ]
  },
  {
   "cell_type": "code",
   "execution_count": 30,
   "metadata": {},
   "outputs": [],
   "source": [
    "len(biographies)\n",
    "\n",
    "df = pd.DataFrame(data=biographies)\n",
    "\n",
    "df.to_csv('biographies.csv', index=False)"
   ]
  }
 ],
 "metadata": {
  "kernelspec": {
   "display_name": "nba",
   "language": "python",
   "name": "python3"
  },
  "language_info": {
   "codemirror_mode": {
    "name": "ipython",
    "version": 3
   },
   "file_extension": ".py",
   "mimetype": "text/x-python",
   "name": "python",
   "nbconvert_exporter": "python",
   "pygments_lexer": "ipython3",
   "version": "3.11.3"
  },
  "orig_nbformat": 4
 },
 "nbformat": 4,
 "nbformat_minor": 2
}
