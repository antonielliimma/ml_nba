{
 "cells": [
  {
   "cell_type": "code",
   "execution_count": null,
   "metadata": {},
   "outputs": [],
   "source": [
    "! pip install bs4 requests pandas"
   ]
  },
  {
   "cell_type": "code",
   "execution_count": 40,
   "metadata": {},
   "outputs": [],
   "source": [
    "def build_player(row):    \n",
    "    cells = row.find_all('td')\n",
    "    name_link = cells[1].find('a')\n",
    "    \n",
    "    if name_link is None:\n",
    "        return None\n",
    "\n",
    "    rank = cells[0].text.strip()\n",
    "        \n",
    "    name = name_link.text.strip()\n",
    "    name_url = name_link['href']\n",
    "    team_link = cells[2].find('a')\n",
    "    team = team_link.text.strip()\n",
    "    team_url = team_link['href']\n",
    "    salary = cells[3].text.strip()\n",
    "    \n",
    "    return {\n",
    "        'rank': rank,\n",
    "        'name': name,\n",
    "        'name_url': name_url,\n",
    "        'team': team,\n",
    "        'team_url': team_url,\n",
    "        'salary': salary\n",
    "    }    "
   ]
  },
  {
   "cell_type": "code",
   "execution_count": null,
   "metadata": {},
   "outputs": [],
   "source": [
    "import requests\n",
    "from bs4 import BeautifulSoup\n",
    "\n",
    "\n",
    "def crawler(page=1):\n",
    "    url = f\"https://www.espn.com/nba/salaries/_/year/2023/page/{page}/seasontype/4\"\n",
    "\n",
    "    response = requests.get(url)\n",
    "    html = response.content\n",
    "    soup = BeautifulSoup(html, 'html.parser')\n",
    "\n",
    "    page = soup.find(class_='page-numbers')\n",
    "    values = page.text.split('of')\n",
    "    currentPage = values[0]\n",
    "    pageNumber = values[1]\n",
    "\n",
    "    return soup, int(currentPage), int(pageNumber)\n",
    "\n",
    "\n",
    "soup, currentPage, pageNumber = crawler()\n",
    "\n",
    "\n",
    "players = []\n",
    "for i in range(currentPage+1, pageNumber):\n",
    "    table = soup.find('table')\n",
    "    rows = table.find_all('tr')\n",
    "\n",
    "    for row in rows:\n",
    "        player = build_player(row)\n",
    "        if player is not None:\n",
    "            players.append(player)\n",
    "\n",
    "    soup, currentPage, pageNumber = crawler(i)            \n"
   ]
  },
  {
   "cell_type": "code",
   "execution_count": 50,
   "metadata": {},
   "outputs": [],
   "source": [
    "import pandas as pd\n",
    "\n",
    "df = pd.DataFrame(data=players)\n",
    "\n",
    "df.to_csv('../dataset/scraping/players.csv', index=False)"
   ]
  }
 ],
 "metadata": {
  "kernelspec": {
   "display_name": "Python 3",
   "language": "python",
   "name": "python3"
  },
  "language_info": {
   "codemirror_mode": {
    "name": "ipython",
    "version": 3
   },
   "file_extension": ".py",
   "mimetype": "text/x-python",
   "name": "python",
   "nbconvert_exporter": "python",
   "pygments_lexer": "ipython3",
   "version": "3.11.3"
  },
  "orig_nbformat": 4
 },
 "nbformat": 4,
 "nbformat_minor": 2
}
